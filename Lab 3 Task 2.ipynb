{
  "nbformat": 4,
  "nbformat_minor": 0,
  "metadata": {
    "colab": {
      "provenance": [],
      "authorship_tag": "ABX9TyNJ0vmGSViCO9zEiGiUkOIJ",
      "include_colab_link": true
    },
    "kernelspec": {
      "name": "python3",
      "display_name": "Python 3"
    },
    "language_info": {
      "name": "python"
    }
  },
  "cells": [
    {
      "cell_type": "markdown",
      "metadata": {
        "id": "view-in-github",
        "colab_type": "text"
      },
      "source": [
        "<a href=\"https://colab.research.google.com/github/miankhan143/AI-Lab/blob/main/Lab%203%20Task%202.ipynb\" target=\"_parent\"><img src=\"https://colab.research.google.com/assets/colab-badge.svg\" alt=\"Open In Colab\"/></a>"
      ]
    },
    {
      "cell_type": "code",
      "execution_count": null,
      "metadata": {
        "id": "D7aCllQPhlyO"
      },
      "outputs": [],
      "source": [
        "class Node:\n",
        "    #state = state      # class variable shared by all instances\n",
        "\n",
        "    def __init__(self, state, parent, actions, totalCost):\n",
        "        \n",
        "        self.state = state\n",
        "        self.parent = parent\n",
        "        self.actions = actions\n",
        "\n",
        "        self.totalCost = totalCost\n",
        "\n",
        "node1 = Node(1, 2, 3, 4)\n",
        "\n",
        "\n",
        "graph = {'A': Node('A', None, ['B', 'C', 'E'],None),\n",
        "         'B': Node('B', None, ['A', 'D', 'E'],None),\n",
        "         'C': Node('C', None, ['A', 'F', 'G'],None),\n",
        "         'D': Node('D', None, ['B', 'E'],None),\n",
        "         'E': Node('E', None, ['A', 'B', 'D'],None),\n",
        "         'F': Node('F', None, ['C'],None),\n",
        "         'G': Node('G', None, ['C'],None),}\n",
        "\n",
        "\n",
        "\n",
        "def BFS():\n",
        "    initialState = 'Arad'\n",
        "    goalState = 'Bucharest'\n",
        "    graph = {'Oradea': Node('Oradea', None, ['Zerind', 'Sibiu'],[71,151]),\n",
        "             'Zerind': Node('Zerind',None,['Arad','Oradea'],[75,71]),\n",
        "             'Arad': Node('Arad',None,['Zerind','Timisoara','Sibiu'],[75,118,140]),\n",
        "             'Sibiu': Node('Sibiu',None,['Fagaras', 'Rimnicu Vilcea','Oradea','Arad'],[99,80,151,140]),\n",
        "             'Timisoara': Node('Timisoara',None,['Lugoj','Arad'],[111,118]),\n",
        "             'Lugoj': Node('Lugoj',None,['Mehadia','Timisoara'],[70,111]),\n",
        "             'Mehadia': Node('Mehadia',None,['Drobeta','Lugoj'],[75,70]),\n",
        "             'Drobeta': Node('Drobeta',None,['Craiova','Mehadia'],[120,75]),\n",
        "             'Craiova': Node('Craiova',None,['Pitesti','Rimnicu Vilcea','Drobeta'],[138,146,120]),\n",
        "             'Rimnicu Vilcea': Node('Rimnicu Vilcea',None,['Pitesti','Craiova'],[97,146]),\n",
        "             'Fagaras': Node('Fagaras',None,['Bucharest','Sibiu'],[211,99]),\n",
        "             'Bucharest':Node('Bucharest',None,['Giurgiu','Pitesti','Fagaras','Urziceni'],[90,101,211,85]),\n",
        "             'Urziceni': Node('Urziceni',None,['Bucharest','Hirsova','Vaslui'],[85,98,142]),\n",
        "             'Vaslui': Node('Vaslui',None,['Iasi','Urziceni'],[92,142]),\n",
        "             'Iasi': Node('Iasi',None,['Neamt','Vaslui'],[87,92]),\n",
        "             'Hirsova': Node('Hirsova',None,['Urziceni','Eforie'],[98,86]),\n",
        "             'Neamt': Node('Neamt',None,['Iasi'],[87])}\n",
        "    frontier = [initialState]\n",
        "    explored = []\n",
        "    while len(frontier) !=0:\n",
        "          currentNode = frontier.pop(0)\n",
        "          explored.append(currentNode)\n",
        "          for child in graph[currentNode].actions:\n",
        "              if child not in frontier and child not in explored:\n",
        "                  graph[child].parent=currentNode\n",
        "                  if graph[child].state==goalState:\n",
        "                        return actionSequence(graph, initialState, goalState)\n",
        "                  frontier.append(child)\n",
        "\n",
        "\n",
        "\n",
        "\n",
        "\n",
        "\n",
        "\n",
        "\n",
        "\n",
        "\n",
        "def actionSequence(graph, initialState, goalState):\n",
        "                   solution=[goalState]\n",
        "                   currentParent = graph[goalState].parent\n",
        "                   while currentParent!=None:\n",
        "                       solution.append(currentParent)\n",
        "                       currentParent = graph[currentParent].parent\n",
        "                   solution.reverse()\n",
        "                   return solution\n",
        "                   \n",
        "solution = BFS()\n",
        "print(solution)      \n"
      ]
    }
  ]
}
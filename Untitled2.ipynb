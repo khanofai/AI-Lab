{
  "nbformat": 4,
  "nbformat_minor": 0,
  "metadata": {
    "colab": {
      "provenance": [],
      "authorship_tag": "ABX9TyPO6blKW2uJAM6JUxekvZyi",
      "include_colab_link": true
    },
    "kernelspec": {
      "name": "python3",
      "display_name": "Python 3"
    },
    "language_info": {
      "name": "python"
    }
  },
  "cells": [
    {
      "cell_type": "markdown",
      "metadata": {
        "id": "view-in-github",
        "colab_type": "text"
      },
      "source": [
        "<a href=\"https://colab.research.google.com/github/miankhan143/AI-Lab/blob/main/Untitled2.ipynb\" target=\"_parent\"><img src=\"https://colab.research.google.com/assets/colab-badge.svg\" alt=\"Open In Colab\"/></a>"
      ]
    },
    {
      "cell_type": "code",
      "source": [],
      "metadata": {
        "colab": {
          "base_uri": "https://localhost:8080/"
        },
        "id": "lzoGekTL2qA_",
        "outputId": "b2822b01-bd41-4940-b65b-2343a8c3ec05"
      },
      "execution_count": 16,
      "outputs": [
        {
          "output_type": "stream",
          "name": "stdout",
          "text": [
            "A\n",
            "B\n",
            "D\n",
            "E\n",
            "C\n",
            "F\n",
            "G\n"
          ]
        }
      ]
    },
    {
      "cell_type": "code",
      "execution_count": 18,
      "metadata": {
        "colab": {
          "base_uri": "https://localhost:8080/",
          "height": 235
        },
        "id": "D7aCllQPhlyO",
        "outputId": "0aa0bdd2-e253-415b-ee09-464357f93f3e"
      },
      "outputs": [
        {
          "output_type": "error",
          "ename": "TypeError",
          "evalue": "ignored",
          "traceback": [
            "\u001b[0;31m---------------------------------------------------------------------------\u001b[0m",
            "\u001b[0;31mTypeError\u001b[0m                                 Traceback (most recent call last)",
            "\u001b[0;32m<ipython-input-18-9fcef8a9ee33>\u001b[0m in \u001b[0;36m<module>\u001b[0;34m\u001b[0m\n\u001b[1;32m      6\u001b[0m     \u001b[0mself\u001b[0m\u001b[0;34m.\u001b[0m\u001b[0mtotalCost\u001b[0m \u001b[0;34m=\u001b[0m \u001b[0mtotalCost\u001b[0m\u001b[0;34m\u001b[0m\u001b[0;34m\u001b[0m\u001b[0m\n\u001b[1;32m      7\u001b[0m \u001b[0;34m\u001b[0m\u001b[0m\n\u001b[0;32m----> 8\u001b[0;31m graph = {'A': Node('A', None, ['B', 'E', 'C'], None),\n\u001b[0m\u001b[1;32m      9\u001b[0m          \u001b[0;34m'B'\u001b[0m\u001b[0;34m:\u001b[0m \u001b[0mNode\u001b[0m\u001b[0;34m(\u001b[0m\u001b[0;34m'B'\u001b[0m\u001b[0;34m,\u001b[0m \u001b[0;32mNone\u001b[0m\u001b[0;34m,\u001b[0m \u001b[0;34m[\u001b[0m\u001b[0;34m'D'\u001b[0m\u001b[0;34m,\u001b[0m \u001b[0;34m'E'\u001b[0m\u001b[0;34m,\u001b[0m \u001b[0;34m'A'\u001b[0m\u001b[0;34m]\u001b[0m\u001b[0;34m,\u001b[0m \u001b[0;32mNone\u001b[0m\u001b[0;34m)\u001b[0m\u001b[0;34m,\u001b[0m\u001b[0;34m\u001b[0m\u001b[0;34m\u001b[0m\u001b[0m\n\u001b[1;32m     10\u001b[0m          \u001b[0;34m'C'\u001b[0m\u001b[0;34m:\u001b[0m \u001b[0mNode\u001b[0m\u001b[0;34m(\u001b[0m\u001b[0;34m'C'\u001b[0m\u001b[0;34m,\u001b[0m \u001b[0;32mNone\u001b[0m\u001b[0;34m,\u001b[0m \u001b[0;34m[\u001b[0m\u001b[0;34m'A'\u001b[0m\u001b[0;34m,\u001b[0m \u001b[0;34m'F'\u001b[0m\u001b[0;34m,\u001b[0m \u001b[0;34m'G'\u001b[0m\u001b[0;34m]\u001b[0m\u001b[0;34m,\u001b[0m \u001b[0;32mNone\u001b[0m\u001b[0;34m)\u001b[0m\u001b[0;34m,\u001b[0m\u001b[0;34m\u001b[0m\u001b[0;34m\u001b[0m\u001b[0m\n",
            "\u001b[0;31mTypeError\u001b[0m: Node() takes no arguments"
          ]
        }
      ],
      "source": [
        "class Node:\n",
        "  def ___init__(self, state, parent, actions, totalCost):\n",
        "    self.state = state\n",
        "    self.parent = parent\n",
        "    self.actions = actions\n",
        "    self.totalCost = totalCost\n",
        "   \n",
        "graph = {'A': Node('A', None, ['B', 'E', 'C'], None),\n",
        "         'B': Node('B', None, ['D', 'E', 'A'], None),\n",
        "         'C': Node('C', None, ['A', 'F', 'G'], None),\n",
        "         'D': Node('D', None, ['B', 'E'], None),\n",
        "         'E': Node('E', None, ['A', 'B', 'D'], None),\n",
        "         'F': Node('F', None, ['C'], None),\n",
        "         'G': Node('G', None, ['C'], None),}\n",
        "def DFS():\n",
        "    initialState = 'Arad'\n",
        "    goalState = 'Bucharest'\n",
        "    graph = {'Oradea':Node('Oradea', None, ['Zerind', 'Sibiu'], [71,151]),\n",
        "            'Zerind':Node('Zerind', None, ['Oradea', 'Arad'], [71,75]),\n",
        "            'Sibiu':Node('Sibiu', None, ['Oradea', 'Arad', 'Fagaras','Rimnicu Vilcea'], [151,140,99,80]),\n",
        "            'Arad':Node('Arad', None, ['Zerind', 'Sibiu','Timisoara'], [75,140,118]),\n",
        "            'Fagaras':Node('Fagaras', None, ['Sibiu', 'Bucharest'], [99, 211]),\n",
        "            'Timisoara':Node('Timisoara', None, ['Arad, Lugoj'], [118,111]),\n",
        "            'Rimnicu Vilcea':Node('Rimnicu Vilcea', None, ['Sibiu','Pitesti','Craiova'], [80,97,146]),\n",
        "            'Lugoj':Node('Lugoj', None, ['Timisoara','Mehadia'], [111,70]),\n",
        "            'Pitesti':Node('Pitesti', None, ['Rimnicu Vilcea','Craiova','Bucharest'], [97,138,101]),\n",
        "            'Mehadia':Node('Mehadia', None, ['Lugoj','Drobeta'], [70,75]),\n",
        "            'Bucharest':Node('Bucharest', None, ['Fagaras','Pitesti','Giurgiu','Urziceni'], [211,101,90,85]),\n",
        "            'Drobeta':Node('Drobeta', None, ['Mehadia','Craiova'], [97,138,101]),\n",
        "            'Giurgiu':Node('Giurgiu', None, ['Bucharest'], [90]),\n",
        "            'Craiova':Node('Craiova', None, ['Drobeta','Rimnicu Vilcea','Pitesti'], [120,146,138]),\n",
        "            'Urziceni':Node('Urziceni', None, ['Bucharest','Hirsova','Vaslui'], [85,98,142]),\n",
        "            'Hirsova':Node('Hirsova', None, ['Urziceni','Eforie'], [98,86,101]),\n",
        "            'Vaslui':Node('Vaslui', None, ['Urziceni','Iasi'], [142,92]),\n",
        "            'Iasi':Node('Iasi', None, ['Vaslui','Neamt'], [92,87]),\n",
        "            'Neamt':Node('Neamt', None, ['Iasi'], [87])}\n",
        "    frontier = [initialState]\n",
        "    explored = []\n",
        "    while len(frontier) !=0:\n",
        "     currentNode = frontier.pop(len(frontier)-1)\n",
        "     print(currentNode)\n",
        "     explored.append(currentNode)\n",
        "     currentChildren = 0\n",
        "     for child in graph[currentNode].actions:\n",
        "       if child not in frontier and child not in explored:\n",
        "         graph[child].parent = currentNode\n",
        "         if graph[child].state == goalState:\n",
        "           print(explored)\n",
        "           return actionSequence(graph, initialState, goalState)\n",
        "         currentChildren = currentChildren+1\n",
        "         frontier.append(child)\n",
        "     if currentChildren ==0:\n",
        "       del explored[len(explored)-1]\n",
        "\n",
        "\n",
        "def actionSequence(graph, initialState, goalState):\n",
        "  solution = [goalState]\n",
        "  currentParent = graph[goalState].parent\n",
        "  while currentParent!=None:\n",
        "    solution.append(currentParent)\n",
        "    currentParent = graph[currentParent].parent\n",
        "  solution.reverse()\n",
        "  return solution\n",
        "solution = DFS()\n",
        "print(solution)"
      ]
    },
    {
      "cell_type": "code",
      "source": [
        "dictionary = [\"START\",\"NOTE\",\"SAND\",\"STONED\"]\n",
        "n = len(dic)"
      ],
      "metadata": {
        "id": "bdgc1M9W2kqA"
      },
      "execution_count": 16,
      "outputs": []
    }
  ]
}